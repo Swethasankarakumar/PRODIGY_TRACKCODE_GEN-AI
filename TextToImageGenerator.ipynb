{
  "cells": [
    {
      "cell_type": "markdown",
      "metadata": {
        "id": "view-in-github",
        "colab_type": "text"
      },
      "source": [
        "<a href=\"https://colab.research.google.com/github/Swethasankarakumar/PRODIGY_TRACKCODE_GEN-AI/blob/main/TextToImageGenerator.ipynb\" target=\"_parent\"><img src=\"https://colab.research.google.com/assets/colab-badge.svg\" alt=\"Open In Colab\"/></a>"
      ]
    },
    {
      "cell_type": "code",
      "execution_count": null,
      "metadata": {
        "id": "r26yqt3pzJ1w",
        "collapsed": true
      },
      "outputs": [],
      "source": [
        "# Install necessary libraries\n",
        "!pip install diffusers transformers accelerate\n",
        "!pip install sympy --upgrade\n",
        "!pip install torch torchvision torchaudio --index-url https://download.pytorch.org/whl/cu118"
      ]
    },
    {
      "cell_type": "code",
      "execution_count": null,
      "metadata": {
        "id": "kZfMOmtf0AV6"
      },
      "outputs": [],
      "source": [
        "from diffusers import StableDiffusionPipeline\n",
        "import torch\n",
        "from huggingface_hub import login\n",
        "login()\n",
        "# Load the pre-trained Stable Diffusion model\n",
        "pipe = StableDiffusionPipeline.from_pretrained(\"runwayml/stable-diffusion-v1-5\", torch_dtype=torch.float16)\n",
        "# Check if CUDA is available before moving the model\n",
        "if torch.cuda.is_available():\n",
        "    pipe = pipe.to(\"cuda\")  # Use GPU for faster generation\n",
        "    print(\"Model moved to CUDA.\")\n",
        "else:\n",
        "    print(\"CUDA not available, using CPU instead.\")"
      ]
    },
    {
      "cell_type": "code",
      "execution_count": null,
      "metadata": {
        "id": "cDj1Y89q1cd0"
      },
      "outputs": [],
      "source": [
        "# Define the text prompt\n",
        "prompt = \"a futuristic cityscape with flying cars and glowing neon lights, highly detailed and vibrant\"\n",
        "\n",
        "# Generate the image\n",
        "image = pipe(prompt).images[0]\n",
        "\n",
        "# Save the image\n",
        "image.save(\"generated_image.png\")\n",
        "\n",
        "# Display the image\n",
        "image.show()\n",
        "\n",
        "from google.colab import files\n",
        "files.download(\"generated_image.png\")"
      ]
    }
  ],
  "metadata": {
    "colab": {
      "provenance": [],
      "authorship_tag": "ABX9TyM7Ru4uoaANBnhoNwcdby2C",
      "include_colab_link": true
    },
    "kernelspec": {
      "display_name": "Python 3",
      "name": "python3"
    },
    "language_info": {
      "name": "python"
    }
  },
  "nbformat": 4,
  "nbformat_minor": 0
}